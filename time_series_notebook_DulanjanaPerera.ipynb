{
  "cells": [
    {
      "cell_type": "markdown",
      "source": [
        "# Name: Dulanjana Perera (2059757)\n",
        "# Course: CSC 578 / Final Project"
      ],
      "metadata": {
        "id": "k9_qv5ptKfgL"
      }
    },
    {
      "cell_type": "markdown",
      "metadata": {
        "id": "XVhK72Pu1cJL"
      },
      "source": [
        "## Loading libraries"
      ]
    },
    {
      "cell_type": "code",
      "execution_count": 1,
      "metadata": {
        "id": "7rZnJaGTWQw0"
      },
      "outputs": [],
      "source": [
        "import os\n",
        "import datetime\n",
        "\n",
        "import IPython\n",
        "import IPython.display\n",
        "import matplotlib as mpl\n",
        "import matplotlib.pyplot as plt\n",
        "import numpy as np\n",
        "import pandas as pd\n",
        "import seaborn as sns\n",
        "import tensorflow as tf\n",
        "import csv\n",
        "from google.colab import drive\n",
        "import os\n",
        "\n",
        "mpl.rcParams['figure.figsize'] = (8, 6)\n",
        "mpl.rcParams['axes.grid'] = False"
      ]
    },
    {
      "cell_type": "markdown",
      "metadata": {
        "id": "TokBlnUhWFw9"
      },
      "source": [
        "## The Traffic Voolume dataset\n",
        "\n",
        "This dataset includes 9 features including hourly traffic volume at Minnasota I-94"
      ]
    },
    {
      "cell_type": "code",
      "execution_count": 2,
      "metadata": {
        "id": "xyv_i85IWInT"
      },
      "outputs": [],
      "source": [
        "csv_path = tf.keras.utils.get_file(\n",
        "    origin='https://reed.cs.depaul.edu/peterh/Essays/Metro_Interstate_reduced.csv',\n",
        "    fname='Metro_Interstate_reduced.csv',\n",
        "    cache_dir='/content', cache_subdir='sample_data')"
      ]
    },
    {
      "cell_type": "markdown",
      "metadata": {
        "id": "R81Wx8WP4c3G"
      },
      "source": [
        "Load the CSV file into a pandas dataframe and extract the time column"
      ]
    },
    {
      "cell_type": "code",
      "execution_count": 3,
      "metadata": {
        "id": "TX6uGeeeWIkG"
      },
      "outputs": [],
      "source": [
        "raw_df = pd.read_csv(csv_path)\n",
        "date_time = pd.to_datetime(raw_df.pop('date_time'), format='%Y-%m-%d %H:%M:%S')"
      ]
    },
    {
      "cell_type": "markdown",
      "metadata": {
        "id": "VdbOWXiTWM2T"
      },
      "source": [
        "Checking the dataset variables"
      ]
    },
    {
      "cell_type": "code",
      "execution_count": 4,
      "metadata": {
        "id": "ojHE-iCCWIhz",
        "colab": {
          "base_uri": "https://localhost:8080/",
          "height": 206
        },
        "outputId": "1a985526-a3c8-440b-c787-0bf7863ee390"
      },
      "outputs": [
        {
          "output_type": "execute_result",
          "data": {
            "text/plain": [
              "  holiday    temp  rain_1h  snow_1h  clouds_all weather_main  \\\n",
              "0    None  288.28      0.0      0.0          40       Clouds   \n",
              "1    None  289.36      0.0      0.0          75       Clouds   \n",
              "2    None  289.58      0.0      0.0          90       Clouds   \n",
              "3    None  290.13      0.0      0.0          90       Clouds   \n",
              "4    None  291.14      0.0      0.0          75       Clouds   \n",
              "\n",
              "  weather_description  traffic_volume  \n",
              "0    scattered clouds            5545  \n",
              "1       broken clouds            4516  \n",
              "2     overcast clouds            4767  \n",
              "3     overcast clouds            5026  \n",
              "4       broken clouds            4918  "
            ],
            "text/html": [
              "\n",
              "  <div id=\"df-2492abc4-593b-457c-9ad5-d3b950677d66\">\n",
              "    <div class=\"colab-df-container\">\n",
              "      <div>\n",
              "<style scoped>\n",
              "    .dataframe tbody tr th:only-of-type {\n",
              "        vertical-align: middle;\n",
              "    }\n",
              "\n",
              "    .dataframe tbody tr th {\n",
              "        vertical-align: top;\n",
              "    }\n",
              "\n",
              "    .dataframe thead th {\n",
              "        text-align: right;\n",
              "    }\n",
              "</style>\n",
              "<table border=\"1\" class=\"dataframe\">\n",
              "  <thead>\n",
              "    <tr style=\"text-align: right;\">\n",
              "      <th></th>\n",
              "      <th>holiday</th>\n",
              "      <th>temp</th>\n",
              "      <th>rain_1h</th>\n",
              "      <th>snow_1h</th>\n",
              "      <th>clouds_all</th>\n",
              "      <th>weather_main</th>\n",
              "      <th>weather_description</th>\n",
              "      <th>traffic_volume</th>\n",
              "    </tr>\n",
              "  </thead>\n",
              "  <tbody>\n",
              "    <tr>\n",
              "      <th>0</th>\n",
              "      <td>None</td>\n",
              "      <td>288.28</td>\n",
              "      <td>0.0</td>\n",
              "      <td>0.0</td>\n",
              "      <td>40</td>\n",
              "      <td>Clouds</td>\n",
              "      <td>scattered clouds</td>\n",
              "      <td>5545</td>\n",
              "    </tr>\n",
              "    <tr>\n",
              "      <th>1</th>\n",
              "      <td>None</td>\n",
              "      <td>289.36</td>\n",
              "      <td>0.0</td>\n",
              "      <td>0.0</td>\n",
              "      <td>75</td>\n",
              "      <td>Clouds</td>\n",
              "      <td>broken clouds</td>\n",
              "      <td>4516</td>\n",
              "    </tr>\n",
              "    <tr>\n",
              "      <th>2</th>\n",
              "      <td>None</td>\n",
              "      <td>289.58</td>\n",
              "      <td>0.0</td>\n",
              "      <td>0.0</td>\n",
              "      <td>90</td>\n",
              "      <td>Clouds</td>\n",
              "      <td>overcast clouds</td>\n",
              "      <td>4767</td>\n",
              "    </tr>\n",
              "    <tr>\n",
              "      <th>3</th>\n",
              "      <td>None</td>\n",
              "      <td>290.13</td>\n",
              "      <td>0.0</td>\n",
              "      <td>0.0</td>\n",
              "      <td>90</td>\n",
              "      <td>Clouds</td>\n",
              "      <td>overcast clouds</td>\n",
              "      <td>5026</td>\n",
              "    </tr>\n",
              "    <tr>\n",
              "      <th>4</th>\n",
              "      <td>None</td>\n",
              "      <td>291.14</td>\n",
              "      <td>0.0</td>\n",
              "      <td>0.0</td>\n",
              "      <td>75</td>\n",
              "      <td>Clouds</td>\n",
              "      <td>broken clouds</td>\n",
              "      <td>4918</td>\n",
              "    </tr>\n",
              "  </tbody>\n",
              "</table>\n",
              "</div>\n",
              "      <button class=\"colab-df-convert\" onclick=\"convertToInteractive('df-2492abc4-593b-457c-9ad5-d3b950677d66')\"\n",
              "              title=\"Convert this dataframe to an interactive table.\"\n",
              "              style=\"display:none;\">\n",
              "        \n",
              "  <svg xmlns=\"http://www.w3.org/2000/svg\" height=\"24px\"viewBox=\"0 0 24 24\"\n",
              "       width=\"24px\">\n",
              "    <path d=\"M0 0h24v24H0V0z\" fill=\"none\"/>\n",
              "    <path d=\"M18.56 5.44l.94 2.06.94-2.06 2.06-.94-2.06-.94-.94-2.06-.94 2.06-2.06.94zm-11 1L8.5 8.5l.94-2.06 2.06-.94-2.06-.94L8.5 2.5l-.94 2.06-2.06.94zm10 10l.94 2.06.94-2.06 2.06-.94-2.06-.94-.94-2.06-.94 2.06-2.06.94z\"/><path d=\"M17.41 7.96l-1.37-1.37c-.4-.4-.92-.59-1.43-.59-.52 0-1.04.2-1.43.59L10.3 9.45l-7.72 7.72c-.78.78-.78 2.05 0 2.83L4 21.41c.39.39.9.59 1.41.59.51 0 1.02-.2 1.41-.59l7.78-7.78 2.81-2.81c.8-.78.8-2.07 0-2.86zM5.41 20L4 18.59l7.72-7.72 1.47 1.35L5.41 20z\"/>\n",
              "  </svg>\n",
              "      </button>\n",
              "      \n",
              "  <style>\n",
              "    .colab-df-container {\n",
              "      display:flex;\n",
              "      flex-wrap:wrap;\n",
              "      gap: 12px;\n",
              "    }\n",
              "\n",
              "    .colab-df-convert {\n",
              "      background-color: #E8F0FE;\n",
              "      border: none;\n",
              "      border-radius: 50%;\n",
              "      cursor: pointer;\n",
              "      display: none;\n",
              "      fill: #1967D2;\n",
              "      height: 32px;\n",
              "      padding: 0 0 0 0;\n",
              "      width: 32px;\n",
              "    }\n",
              "\n",
              "    .colab-df-convert:hover {\n",
              "      background-color: #E2EBFA;\n",
              "      box-shadow: 0px 1px 2px rgba(60, 64, 67, 0.3), 0px 1px 3px 1px rgba(60, 64, 67, 0.15);\n",
              "      fill: #174EA6;\n",
              "    }\n",
              "\n",
              "    [theme=dark] .colab-df-convert {\n",
              "      background-color: #3B4455;\n",
              "      fill: #D2E3FC;\n",
              "    }\n",
              "\n",
              "    [theme=dark] .colab-df-convert:hover {\n",
              "      background-color: #434B5C;\n",
              "      box-shadow: 0px 1px 3px 1px rgba(0, 0, 0, 0.15);\n",
              "      filter: drop-shadow(0px 1px 2px rgba(0, 0, 0, 0.3));\n",
              "      fill: #FFFFFF;\n",
              "    }\n",
              "  </style>\n",
              "\n",
              "      <script>\n",
              "        const buttonEl =\n",
              "          document.querySelector('#df-2492abc4-593b-457c-9ad5-d3b950677d66 button.colab-df-convert');\n",
              "        buttonEl.style.display =\n",
              "          google.colab.kernel.accessAllowed ? 'block' : 'none';\n",
              "\n",
              "        async function convertToInteractive(key) {\n",
              "          const element = document.querySelector('#df-2492abc4-593b-457c-9ad5-d3b950677d66');\n",
              "          const dataTable =\n",
              "            await google.colab.kernel.invokeFunction('convertToInteractive',\n",
              "                                                     [key], {});\n",
              "          if (!dataTable) return;\n",
              "\n",
              "          const docLinkHtml = 'Like what you see? Visit the ' +\n",
              "            '<a target=\"_blank\" href=https://colab.research.google.com/notebooks/data_table.ipynb>data table notebook</a>'\n",
              "            + ' to learn more about interactive tables.';\n",
              "          element.innerHTML = '';\n",
              "          dataTable['output_type'] = 'display_data';\n",
              "          await google.colab.output.renderOutput(dataTable, element);\n",
              "          const docLink = document.createElement('div');\n",
              "          docLink.innerHTML = docLinkHtml;\n",
              "          element.appendChild(docLink);\n",
              "        }\n",
              "      </script>\n",
              "    </div>\n",
              "  </div>\n",
              "  "
            ]
          },
          "metadata": {},
          "execution_count": 4
        }
      ],
      "source": [
        "raw_df.head()"
      ]
    },
    {
      "cell_type": "markdown",
      "source": [
        "## Data exploration\n",
        "\n",
        "examine the type of data, their distribution and possible outliers"
      ],
      "metadata": {
        "id": "n8QBREwCmorC"
      }
    },
    {
      "cell_type": "markdown",
      "source": [
        "Full statistical description gives general idea of data type and range"
      ],
      "metadata": {
        "id": "24aKJRSfm6Pb"
      }
    },
    {
      "cell_type": "code",
      "source": [
        "raw_df.describe(include=\"all\").transpose()"
      ],
      "metadata": {
        "colab": {
          "base_uri": "https://localhost:8080/",
          "height": 301
        },
        "id": "MTQbaNlcm5VX",
        "outputId": "cb2a9e2d-a0a7-473b-bf92-840eb17b8428"
      },
      "execution_count": 5,
      "outputs": [
        {
          "output_type": "execute_result",
          "data": {
            "text/plain": [
              "                       count unique           top   freq         mean  \\\n",
              "holiday                40575     12          None  40522          NaN   \n",
              "temp                 40575.0    NaN           NaN    NaN   281.316763   \n",
              "rain_1h              40575.0    NaN           NaN    NaN     0.318632   \n",
              "snow_1h              40575.0    NaN           NaN    NaN     0.000117   \n",
              "clouds_all           40575.0    NaN           NaN    NaN    44.199162   \n",
              "weather_main           40575     11        Clouds  15123          NaN   \n",
              "weather_description    40575     35  sky is clear  11642          NaN   \n",
              "traffic_volume       40575.0    NaN           NaN    NaN  3290.650474   \n",
              "\n",
              "                             std  min     25%     50%     75%     max  \n",
              "holiday                      NaN  NaN     NaN     NaN     NaN     NaN  \n",
              "temp                   13.816618  0.0  271.84  282.86  292.28  310.07  \n",
              "rain_1h                 48.81264  0.0     0.0     0.0     0.0  9831.3  \n",
              "snow_1h                 0.005676  0.0     0.0     0.0     0.0    0.51  \n",
              "clouds_all             38.683447  0.0     1.0    40.0    90.0   100.0  \n",
              "weather_main                 NaN  NaN     NaN     NaN     NaN     NaN  \n",
              "weather_description          NaN  NaN     NaN     NaN     NaN     NaN  \n",
              "traffic_volume       1984.772909  0.0  1248.5  3427.0  4952.0  7280.0  "
            ],
            "text/html": [
              "\n",
              "  <div id=\"df-47f0d211-fa06-409b-bcaa-7fb8edcbb491\">\n",
              "    <div class=\"colab-df-container\">\n",
              "      <div>\n",
              "<style scoped>\n",
              "    .dataframe tbody tr th:only-of-type {\n",
              "        vertical-align: middle;\n",
              "    }\n",
              "\n",
              "    .dataframe tbody tr th {\n",
              "        vertical-align: top;\n",
              "    }\n",
              "\n",
              "    .dataframe thead th {\n",
              "        text-align: right;\n",
              "    }\n",
              "</style>\n",
              "<table border=\"1\" class=\"dataframe\">\n",
              "  <thead>\n",
              "    <tr style=\"text-align: right;\">\n",
              "      <th></th>\n",
              "      <th>count</th>\n",
              "      <th>unique</th>\n",
              "      <th>top</th>\n",
              "      <th>freq</th>\n",
              "      <th>mean</th>\n",
              "      <th>std</th>\n",
              "      <th>min</th>\n",
              "      <th>25%</th>\n",
              "      <th>50%</th>\n",
              "      <th>75%</th>\n",
              "      <th>max</th>\n",
              "    </tr>\n",
              "  </thead>\n",
              "  <tbody>\n",
              "    <tr>\n",
              "      <th>holiday</th>\n",
              "      <td>40575</td>\n",
              "      <td>12</td>\n",
              "      <td>None</td>\n",
              "      <td>40522</td>\n",
              "      <td>NaN</td>\n",
              "      <td>NaN</td>\n",
              "      <td>NaN</td>\n",
              "      <td>NaN</td>\n",
              "      <td>NaN</td>\n",
              "      <td>NaN</td>\n",
              "      <td>NaN</td>\n",
              "    </tr>\n",
              "    <tr>\n",
              "      <th>temp</th>\n",
              "      <td>40575.0</td>\n",
              "      <td>NaN</td>\n",
              "      <td>NaN</td>\n",
              "      <td>NaN</td>\n",
              "      <td>281.316763</td>\n",
              "      <td>13.816618</td>\n",
              "      <td>0.0</td>\n",
              "      <td>271.84</td>\n",
              "      <td>282.86</td>\n",
              "      <td>292.28</td>\n",
              "      <td>310.07</td>\n",
              "    </tr>\n",
              "    <tr>\n",
              "      <th>rain_1h</th>\n",
              "      <td>40575.0</td>\n",
              "      <td>NaN</td>\n",
              "      <td>NaN</td>\n",
              "      <td>NaN</td>\n",
              "      <td>0.318632</td>\n",
              "      <td>48.81264</td>\n",
              "      <td>0.0</td>\n",
              "      <td>0.0</td>\n",
              "      <td>0.0</td>\n",
              "      <td>0.0</td>\n",
              "      <td>9831.3</td>\n",
              "    </tr>\n",
              "    <tr>\n",
              "      <th>snow_1h</th>\n",
              "      <td>40575.0</td>\n",
              "      <td>NaN</td>\n",
              "      <td>NaN</td>\n",
              "      <td>NaN</td>\n",
              "      <td>0.000117</td>\n",
              "      <td>0.005676</td>\n",
              "      <td>0.0</td>\n",
              "      <td>0.0</td>\n",
              "      <td>0.0</td>\n",
              "      <td>0.0</td>\n",
              "      <td>0.51</td>\n",
              "    </tr>\n",
              "    <tr>\n",
              "      <th>clouds_all</th>\n",
              "      <td>40575.0</td>\n",
              "      <td>NaN</td>\n",
              "      <td>NaN</td>\n",
              "      <td>NaN</td>\n",
              "      <td>44.199162</td>\n",
              "      <td>38.683447</td>\n",
              "      <td>0.0</td>\n",
              "      <td>1.0</td>\n",
              "      <td>40.0</td>\n",
              "      <td>90.0</td>\n",
              "      <td>100.0</td>\n",
              "    </tr>\n",
              "    <tr>\n",
              "      <th>weather_main</th>\n",
              "      <td>40575</td>\n",
              "      <td>11</td>\n",
              "      <td>Clouds</td>\n",
              "      <td>15123</td>\n",
              "      <td>NaN</td>\n",
              "      <td>NaN</td>\n",
              "      <td>NaN</td>\n",
              "      <td>NaN</td>\n",
              "      <td>NaN</td>\n",
              "      <td>NaN</td>\n",
              "      <td>NaN</td>\n",
              "    </tr>\n",
              "    <tr>\n",
              "      <th>weather_description</th>\n",
              "      <td>40575</td>\n",
              "      <td>35</td>\n",
              "      <td>sky is clear</td>\n",
              "      <td>11642</td>\n",
              "      <td>NaN</td>\n",
              "      <td>NaN</td>\n",
              "      <td>NaN</td>\n",
              "      <td>NaN</td>\n",
              "      <td>NaN</td>\n",
              "      <td>NaN</td>\n",
              "      <td>NaN</td>\n",
              "    </tr>\n",
              "    <tr>\n",
              "      <th>traffic_volume</th>\n",
              "      <td>40575.0</td>\n",
              "      <td>NaN</td>\n",
              "      <td>NaN</td>\n",
              "      <td>NaN</td>\n",
              "      <td>3290.650474</td>\n",
              "      <td>1984.772909</td>\n",
              "      <td>0.0</td>\n",
              "      <td>1248.5</td>\n",
              "      <td>3427.0</td>\n",
              "      <td>4952.0</td>\n",
              "      <td>7280.0</td>\n",
              "    </tr>\n",
              "  </tbody>\n",
              "</table>\n",
              "</div>\n",
              "      <button class=\"colab-df-convert\" onclick=\"convertToInteractive('df-47f0d211-fa06-409b-bcaa-7fb8edcbb491')\"\n",
              "              title=\"Convert this dataframe to an interactive table.\"\n",
              "              style=\"display:none;\">\n",
              "        \n",
              "  <svg xmlns=\"http://www.w3.org/2000/svg\" height=\"24px\"viewBox=\"0 0 24 24\"\n",
              "       width=\"24px\">\n",
              "    <path d=\"M0 0h24v24H0V0z\" fill=\"none\"/>\n",
              "    <path d=\"M18.56 5.44l.94 2.06.94-2.06 2.06-.94-2.06-.94-.94-2.06-.94 2.06-2.06.94zm-11 1L8.5 8.5l.94-2.06 2.06-.94-2.06-.94L8.5 2.5l-.94 2.06-2.06.94zm10 10l.94 2.06.94-2.06 2.06-.94-2.06-.94-.94-2.06-.94 2.06-2.06.94z\"/><path d=\"M17.41 7.96l-1.37-1.37c-.4-.4-.92-.59-1.43-.59-.52 0-1.04.2-1.43.59L10.3 9.45l-7.72 7.72c-.78.78-.78 2.05 0 2.83L4 21.41c.39.39.9.59 1.41.59.51 0 1.02-.2 1.41-.59l7.78-7.78 2.81-2.81c.8-.78.8-2.07 0-2.86zM5.41 20L4 18.59l7.72-7.72 1.47 1.35L5.41 20z\"/>\n",
              "  </svg>\n",
              "      </button>\n",
              "      \n",
              "  <style>\n",
              "    .colab-df-container {\n",
              "      display:flex;\n",
              "      flex-wrap:wrap;\n",
              "      gap: 12px;\n",
              "    }\n",
              "\n",
              "    .colab-df-convert {\n",
              "      background-color: #E8F0FE;\n",
              "      border: none;\n",
              "      border-radius: 50%;\n",
              "      cursor: pointer;\n",
              "      display: none;\n",
              "      fill: #1967D2;\n",
              "      height: 32px;\n",
              "      padding: 0 0 0 0;\n",
              "      width: 32px;\n",
              "    }\n",
              "\n",
              "    .colab-df-convert:hover {\n",
              "      background-color: #E2EBFA;\n",
              "      box-shadow: 0px 1px 2px rgba(60, 64, 67, 0.3), 0px 1px 3px 1px rgba(60, 64, 67, 0.15);\n",
              "      fill: #174EA6;\n",
              "    }\n",
              "\n",
              "    [theme=dark] .colab-df-convert {\n",
              "      background-color: #3B4455;\n",
              "      fill: #D2E3FC;\n",
              "    }\n",
              "\n",
              "    [theme=dark] .colab-df-convert:hover {\n",
              "      background-color: #434B5C;\n",
              "      box-shadow: 0px 1px 3px 1px rgba(0, 0, 0, 0.15);\n",
              "      filter: drop-shadow(0px 1px 2px rgba(0, 0, 0, 0.3));\n",
              "      fill: #FFFFFF;\n",
              "    }\n",
              "  </style>\n",
              "\n",
              "      <script>\n",
              "        const buttonEl =\n",
              "          document.querySelector('#df-47f0d211-fa06-409b-bcaa-7fb8edcbb491 button.colab-df-convert');\n",
              "        buttonEl.style.display =\n",
              "          google.colab.kernel.accessAllowed ? 'block' : 'none';\n",
              "\n",
              "        async function convertToInteractive(key) {\n",
              "          const element = document.querySelector('#df-47f0d211-fa06-409b-bcaa-7fb8edcbb491');\n",
              "          const dataTable =\n",
              "            await google.colab.kernel.invokeFunction('convertToInteractive',\n",
              "                                                     [key], {});\n",
              "          if (!dataTable) return;\n",
              "\n",
              "          const docLinkHtml = 'Like what you see? Visit the ' +\n",
              "            '<a target=\"_blank\" href=https://colab.research.google.com/notebooks/data_table.ipynb>data table notebook</a>'\n",
              "            + ' to learn more about interactive tables.';\n",
              "          element.innerHTML = '';\n",
              "          dataTable['output_type'] = 'display_data';\n",
              "          await google.colab.output.renderOutput(dataTable, element);\n",
              "          const docLink = document.createElement('div');\n",
              "          docLink.innerHTML = docLinkHtml;\n",
              "          element.appendChild(docLink);\n",
              "        }\n",
              "      </script>\n",
              "    </div>\n",
              "  </div>\n",
              "  "
            ]
          },
          "metadata": {},
          "execution_count": 5
        }
      ]
    },
    {
      "cell_type": "markdown",
      "source": [
        "Abnormal value is norticed at rain_1h variable. It will be processed at the preprocessing stage\n",
        "\n",
        "Data types for better understanding of variable types"
      ],
      "metadata": {
        "id": "em16kTbCoqOM"
      }
    },
    {
      "cell_type": "code",
      "source": [
        "raw_df.dtypes"
      ],
      "metadata": {
        "colab": {
          "base_uri": "https://localhost:8080/"
        },
        "id": "YWaBmKBBovBM",
        "outputId": "8035fa34-2e9d-490a-ec15-7c310dc4e99a"
      },
      "execution_count": 6,
      "outputs": [
        {
          "output_type": "execute_result",
          "data": {
            "text/plain": [
              "holiday                 object\n",
              "temp                   float64\n",
              "rain_1h                float64\n",
              "snow_1h                float64\n",
              "clouds_all               int64\n",
              "weather_main            object\n",
              "weather_description     object\n",
              "traffic_volume           int64\n",
              "dtype: object"
            ]
          },
          "metadata": {},
          "execution_count": 6
        }
      ]
    },
    {
      "cell_type": "markdown",
      "source": [
        "Few of the variables are categorical. Therefore, different examinations are needed to be conducted for categorical and numerical variables"
      ],
      "metadata": {
        "id": "Y1V4RDqNo4qU"
      }
    },
    {
      "cell_type": "markdown",
      "source": [
        "Extract only the numerical values and plot the box plot for outlier detection"
      ],
      "metadata": {
        "id": "_LLHQNK8nFcX"
      }
    },
    {
      "cell_type": "code",
      "source": [
        "raw_df.loc[:, ['temp', 'rain_1h', 'snow_1h', 'clouds_all', 'traffic_volume']].boxplot(return_type='axes')"
      ],
      "metadata": {
        "colab": {
          "base_uri": "https://localhost:8080/",
          "height": 393
        },
        "id": "auJyVgMdnJ_L",
        "outputId": "f1098b8a-8eb4-4869-ca38-11fffaafe22c"
      },
      "execution_count": 7,
      "outputs": [
        {
          "output_type": "execute_result",
          "data": {
            "text/plain": [
              "<matplotlib.axes._subplots.AxesSubplot at 0x7f420e6210d0>"
            ]
          },
          "metadata": {},
          "execution_count": 7
        },
        {
          "output_type": "display_data",
          "data": {
            "text/plain": [
              "<Figure size 576x432 with 1 Axes>"
            ],
            "image/png": "[encoded data removed]"
          },
          "metadata": {
            "needs_background": "light"
          }
        }
      ]
    },
    {
      "cell_type": "markdown",
      "source": [
        "Clearly, an outlier is present. also normalization is needed due to the large variation of value ranges\n",
        "\n",
        "remove the outlier at rain_1h and temp variables. because, 0 K is unnatural. Therefore set it to mean. (183K is the lowest in nature ever recorded in human history)"
      ],
      "metadata": {
        "id": "CPjU3TCkp4fC"
      }
    },
    {
      "cell_type": "code",
      "source": [
        "print(\"Maximum value before cleaning:\\n\", raw_df['rain_1h'].max())\n",
        "raw_df['rain_1h'][raw_df['rain_1h']>8000] = raw_df['rain_1h'].mean()\n",
        "print(\"Maximum value after correction:\\n\",raw_df['rain_1h'].max())\n",
        "raw_df['temp'][raw_df['temp']<180] = raw_df['temp'].mean()"
      ],
      "metadata": {
        "colab": {
          "base_uri": "https://localhost:8080/"
        },
        "id": "uCaMxLegq9Gq",
        "outputId": "5d527ec2-7ab6-456b-9cfa-aa98930bbc3c"
      },
      "execution_count": 8,
      "outputs": [
        {
          "output_type": "stream",
          "name": "stdout",
          "text": [
            "Maximum value before cleaning:\n",
            " 9831.3\n",
            "Maximum value after correction:\n",
            " 55.63\n"
          ]
        },
        {
          "output_type": "stream",
          "name": "stderr",
          "text": [
            "/usr/local/lib/python3.7/dist-packages/ipykernel_launcher.py:2: SettingWithCopyWarning: \n",
            "A value is trying to be set on a copy of a slice from a DataFrame\n",
            "\n",
            "See the caveats in the documentation: https://pandas.pydata.org/pandas-docs/stable/user_guide/indexing.html#returning-a-view-versus-a-copy\n",
            "  \n",
            "/usr/local/lib/python3.7/dist-packages/ipykernel_launcher.py:4: SettingWithCopyWarning: \n",
            "A value is trying to be set on a copy of a slice from a DataFrame\n",
            "\n",
            "See the caveats in the documentation: https://pandas.pydata.org/pandas-docs/stable/user_guide/indexing.html#returning-a-view-versus-a-copy\n",
            "  after removing the cwd from sys.path.\n"
          ]
        }
      ]
    },
    {
      "cell_type": "markdown",
      "source": [
        "Check the range again to ensure that the oulier is remnoved"
      ],
      "metadata": {
        "id": "B-_DzJumrUsr"
      }
    },
    {
      "cell_type": "code",
      "source": [
        "raw_df.loc[:, ['temp', 'rain_1h', 'snow_1h', 'clouds_all', 'traffic_volume']].boxplot(return_type='axes')"
      ],
      "metadata": {
        "colab": {
          "base_uri": "https://localhost:8080/",
          "height": 393
        },
        "id": "a5ttiUkCrMhl",
        "outputId": "248f76a8-9021-4a08-f755-0fe15d4a74fe"
      },
      "execution_count": 9,
      "outputs": [
        {
          "output_type": "execute_result",
          "data": {
            "text/plain": [
              "<matplotlib.axes._subplots.AxesSubplot at 0x7f420e69bc50>"
            ]
          },
          "metadata": {},
          "execution_count": 9
        },
        {
          "output_type": "display_data",
          "data": {
            "text/plain": [
              "<Figure size 576x432 with 1 Axes>"
            ],
            "image/png": "[encoded data removed]"
          },
          "metadata": {
            "needs_background": "light"
          }
        }
      ]
    },
    {
      "cell_type": "markdown",
      "source": [
        "Check the distribution of numeric variables"
      ],
      "metadata": {
        "id": "HrbjGMZjpEvS"
      }
    },
    {
      "cell_type": "code",
      "source": [
        "num_df = raw_df.loc[:, ['temp', 'rain_1h', 'snow_1h', 'clouds_all', 'traffic_volume']]\n",
        "num_df.loc[:, ['temp', 'rain_1h', 'snow_1h', 'clouds_all']].plot.hist(subplots=True, layout=(2,2),figsize=(10, 8), bins=20, alpha=0.5)"
      ],
      "metadata": {
        "colab": {
          "base_uri": "https://localhost:8080/",
          "height": 573
        },
        "id": "t4pz_BiJqNWz",
        "outputId": "bcd5ee63-a0a0-4f87-edcd-2e9fe14697a3"
      },
      "execution_count": 10,
      "outputs": [
        {
          "output_type": "execute_result",
          "data": {
            "text/plain": [
              "array([[<matplotlib.axes._subplots.AxesSubplot object at 0x7f420e321210>,\n",
              "        <matplotlib.axes._subplots.AxesSubplot object at 0x7f420e3466d0>],\n",
              "       [<matplotlib.axes._subplots.AxesSubplot object at 0x7f420d9bd550>,\n",
              "        <matplotlib.axes._subplots.AxesSubplot object at 0x7f420e489d10>]],\n",
              "      dtype=object)"
            ]
          },
          "metadata": {},
          "execution_count": 10
        },
        {
          "output_type": "display_data",
          "data": {
            "text/plain": [
              "<Figure size 720x576 with 4 Axes>"
            ],
            "image/png": "[encoded data removed]"
          },
          "metadata": {
            "needs_background": "light"
          }
        }
      ]
    },
    {
      "cell_type": "markdown",
      "source": [
        "Values need to be normalized. highly skewed."
      ],
      "metadata": {
        "id": "Sqn4wHSjsPOJ"
      }
    },
    {
      "cell_type": "markdown",
      "metadata": {
        "id": "WRzj1inMfgcO"
      },
      "source": [
        "Visualize the behavior of selected variables over the time."
      ]
    },
    {
      "cell_type": "code",
      "execution_count": 11,
      "metadata": {
        "id": "Vg5XIc5tfNlG",
        "colab": {
          "base_uri": "https://localhost:8080/",
          "height": 368
        },
        "outputId": "200108cf-e5f6-4bc9-a61e-a8b62ac361fd"
      },
      "outputs": [
        {
          "output_type": "display_data",
          "data": {
            "text/plain": [
              "<Figure size 576x432 with 5 Axes>"
            ],
            "image/png": "[encoded data removed]"
          },
          "metadata": {
            "needs_background": "light"
          }
        }
      ],
      "source": [
        "# From TF Tutorial.\n",
        "plot_cols = ['temp', 'rain_1h', 'snow_1h', 'traffic_volume']\n",
        "plot_features = num_df\n",
        "plot_features.index = date_time\n",
        "_ = plot_features.plot(subplots=True)\n"
      ]
    },
    {
      "cell_type": "markdown",
      "source": [
        "The missing values at the middle is kept in order to maintain the required dataset size"
      ],
      "metadata": {
        "id": "9DIqCGzDok3u"
      }
    },
    {
      "cell_type": "markdown",
      "source": [
        "Investigate the categorical variables"
      ],
      "metadata": {
        "id": "0qsAwrMEwNeK"
      }
    },
    {
      "cell_type": "code",
      "source": [
        "fig = plt.figure(figsize=(15,8))\n",
        "gs = fig.add_gridspec(2,2, hspace = 0.5)\n",
        "ax1 = fig.add_subplot(gs[0,0])\n",
        "ax1.set_xlabel('Holidays')\n",
        "ax1.set_ylabel('Frequency')\n",
        "ax1.set_title(\"Holidays Distribution\")\n",
        "raw_df[\"holiday\"].value_counts().plot(kind='bar')\n",
        "\n",
        "ax2 = fig.add_subplot(gs[0,1])\n",
        "ax2.set_xlabel('Main Weather')\n",
        "ax2.set_ylabel('Frequency')\n",
        "ax2.set_title(\"Weather Distribution\")\n",
        "raw_df[\"weather_main\"].value_counts().plot(kind='bar')\n",
        "\n",
        "ax3 = fig.add_subplot(gs[1,0])\n",
        "ax3.set_xlabel('Weather description')\n",
        "ax3.set_ylabel('Frequency')\n",
        "ax3.set_title(\"Weather description Distribution\")\n",
        "raw_df[\"weather_description\"].value_counts().plot(kind='bar')\n"
      ],
      "metadata": {
        "colab": {
          "base_uri": "https://localhost:8080/",
          "height": 699
        },
        "id": "KqCuYDoFwF_H",
        "outputId": "2381d4bf-0bf1-4edb-8ffb-74859d0b9607"
      },
      "execution_count": 12,
      "outputs": [
        {
          "output_type": "execute_result",
          "data": {
            "text/plain": [
              "<matplotlib.axes._subplots.AxesSubplot at 0x7f420d4046d0>"
            ]
          },
          "metadata": {},
          "execution_count": 12
        },
        {
          "output_type": "display_data",
          "data": {
            "text/plain": [
              "<Figure size 1080x576 with 3 Axes>"
            ],
            "image/png": "[encoded data removed]"
          },
          "metadata": {
            "needs_background": "light"
          }
        }
      ]
    },
    {
      "cell_type": "markdown",
      "source": [
        "There are significant unbalance in categories. Initialy try the LSTM without categorical data."
      ],
      "metadata": {
        "id": "yTOPKJN3xKMQ"
      }
    },
    {
      "cell_type": "markdown",
      "metadata": {
        "id": "vtmu2IBPgPG8"
      },
      "source": [
        "### Feature engineering\n",
        "\n",
        "Before diving in to build a model, it's important to understand your data and be sure that you're passing the model appropriately formatted data."
      ]
    },
    {
      "cell_type": "markdown",
      "metadata": {
        "id": "_8im1ttOWlRB"
      },
      "source": [
        "#### Time"
      ]
    },
    {
      "cell_type": "markdown",
      "metadata": {
        "id": "7YE21HKK40zQ"
      },
      "source": [
        "Convert the string datetime to seconds."
      ]
    },
    {
      "cell_type": "code",
      "execution_count": 13,
      "metadata": {
        "id": "LIFf-VjMfnh3"
      },
      "outputs": [],
      "source": [
        "# From TF Tutorial.\n",
        "timestamp_s = date_time.map(pd.Timestamp.timestamp) # sonvert to seconds"
      ]
    },
    {
      "cell_type": "markdown",
      "metadata": {
        "id": "EC_pnM1D5Sgc"
      },
      "source": [
        "Convert the seconds to day and year as new features for the dataset"
      ]
    },
    {
      "cell_type": "code",
      "execution_count": 14,
      "metadata": {
        "id": "MBfX6CDwax73"
      },
      "outputs": [],
      "source": [
        "# From TF Tutorial.\n",
        "day = 24*60*60\n",
        "year = (365.2425)*day\n",
        "\n",
        "raw_df['Day sin'] = np.sin(timestamp_s * (2 * np.pi / day))\n",
        "raw_df['Day cos'] = np.cos(timestamp_s * (2 * np.pi / day))\n",
        "raw_df['Year sin'] = np.sin(timestamp_s * (2 * np.pi / year))\n",
        "raw_df['Year cos'] = np.cos(timestamp_s * (2 * np.pi / year))"
      ]
    },
    {
      "cell_type": "code",
      "execution_count": 15,
      "metadata": {
        "id": "mXBbTJZfuuTC",
        "colab": {
          "base_uri": "https://localhost:8080/",
          "height": 422
        },
        "outputId": "c8627a6c-7075-4723-e98e-025e3c42ed7f"
      },
      "outputs": [
        {
          "output_type": "execute_result",
          "data": {
            "text/plain": [
              "Text(0.5, 1.0, 'Time of day signal')"
            ]
          },
          "metadata": {},
          "execution_count": 15
        },
        {
          "output_type": "display_data",
          "data": {
            "text/plain": [
              "<Figure size 576x432 with 1 Axes>"
            ],
            "image/png": "[encoded data removed]"
          },
          "metadata": {
            "needs_background": "light"
          }
        }
      ],
      "source": [
        "# From TF Tutorial.\n",
        "plt.plot(np.array(raw_df['Day sin'])[:25])\n",
        "plt.plot(np.array(raw_df['Day cos'])[:25])\n",
        "plt.xlabel('Time [h]')\n",
        "plt.title('Time of day signal')"
      ]
    },
    {
      "cell_type": "markdown",
      "metadata": {
        "id": "HiurzTGQgf_D"
      },
      "source": [
        "Fourier plot gives an idea of which time is more dominant for the traffic data. As suspected day is the dominant frequency.\n"
      ]
    },
    {
      "cell_type": "code",
      "execution_count": 16,
      "metadata": {
        "id": "EN4U1fcMiTYs",
        "colab": {
          "base_uri": "https://localhost:8080/",
          "height": 399
        },
        "outputId": "632c98d2-1092-40e0-ffb5-80b5c9c1a78e"
      },
      "outputs": [
        {
          "output_type": "display_data",
          "data": {
            "text/plain": [
              "<Figure size 576x432 with 1 Axes>"
            ],
            "image/png": "[encoded data removed]"
          },
          "metadata": {
            "needs_background": "light"
          }
        }
      ],
      "source": [
        "# From TF Tutorial.\n",
        "fft = tf.signal.rfft(raw_df['traffic_volume'])\n",
        "f_per_dataset = np.arange(0, len(fft))\n",
        "\n",
        "n_samples_h = len(raw_df['traffic_volume'])\n",
        "hours_per_year = 24*365.2524\n",
        "years_per_dataset = n_samples_h/(hours_per_year)\n",
        "\n",
        "f_per_year = f_per_dataset/years_per_dataset\n",
        "plt.step(f_per_year, np.abs(fft))\n",
        "plt.xscale('log')\n",
        "plt.ylim(0, 20000000)\n",
        "plt.xlim([0.1, max(plt.xlim())])\n",
        "plt.xticks([1, 365.2524], labels=['1/Year', '1/day'])\n",
        "_ = plt.xlabel('Frequency (log scale)')"
      ]
    },
    {
      "cell_type": "markdown",
      "metadata": {
        "id": "2rbL8bSGDHy3"
      },
      "source": [
        "### Split the data"
      ]
    },
    {
      "cell_type": "markdown",
      "metadata": {
        "id": "qoFJZmXBaxCc"
      },
      "source": [
        "Data is splitted for given lengths. The training set is further splitted for validation which is approximately the 30% of total training data."
      ]
    },
    {
      "cell_type": "code",
      "execution_count": 17,
      "metadata": {
        "id": "ia-MPAHxbInX"
      },
      "outputs": [],
      "source": [
        "# extracted only the selected columns\n",
        "df = raw_df.loc[:, ['temp', 'rain_1h', 'snow_1h', 'clouds_all', 'Day sin', 'traffic_volume']]\n",
        "column_indices = {name: i for i, name in enumerate(df.columns)}\n",
        "\n",
        "val = 0.3 # validation percentage from training set\n",
        "train_df = df[0:int(35575*(1-val))]\n",
        "val_df = df[int(35575*(1-val)):35575]\n",
        "test_df = df[35575:]\n",
        "\n",
        "num_features = df.shape[1]"
      ]
    },
    {
      "cell_type": "markdown",
      "metadata": {
        "id": "-eFckdUUHWmT"
      },
      "source": [
        "### Normalize the data\n",
        "\n",
        "Separate normalization leads to wrong pediction. therefore all the data is normalized according to the train data."
      ]
    },
    {
      "cell_type": "code",
      "execution_count": 18,
      "metadata": {
        "id": "Eji6njXvHusN"
      },
      "outputs": [],
      "source": [
        "# From TF Tutorial.\n",
        "train_mean = train_df.mean()\n",
        "train_std = train_df.std()\n",
        "\n",
        "train_df = (train_df - train_mean) / train_std\n",
        "val_df = (val_df - train_mean) / train_std\n",
        "test_df = (test_df - train_mean) / train_std"
      ]
    },
    {
      "cell_type": "code",
      "execution_count": 19,
      "metadata": {
        "id": "T0UYEnkwm8Fe",
        "colab": {
          "base_uri": "https://localhost:8080/",
          "height": 450
        },
        "outputId": "4ae3c5b3-e759-4e70-849c-53fc5cccb0b4"
      },
      "outputs": [
        {
          "output_type": "display_data",
          "data": {
            "text/plain": [
              "<Figure size 864x432 with 1 Axes>"
            ],
            "image/png": "[encoded data removed]"
          },
          "metadata": {
            "needs_background": "light"
          }
        }
      ],
      "source": [
        "# From TF Tutorial.\n",
        "df_std_ = (df - train_mean) / train_std\n",
        "df_std = df_std_.melt(var_name='Column', value_name='Normalized')\n",
        "plt.figure(figsize=(12, 6))\n",
        "ax = sns.violinplot(x='Column', y='Normalized', data=df_std)\n",
        "_ = ax.set_xticklabels(df.keys(), rotation=90)"
      ]
    },
    {
      "cell_type": "code",
      "source": [
        "df_std_.boxplot(return_type='axes')"
      ],
      "metadata": {
        "colab": {
          "base_uri": "https://localhost:8080/",
          "height": 393
        },
        "id": "Y51M903HyNE2",
        "outputId": "68a0fdd9-cc5d-4232-b600-86ee9dca9de8"
      },
      "execution_count": 20,
      "outputs": [
        {
          "output_type": "execute_result",
          "data": {
            "text/plain": [
              "<matplotlib.axes._subplots.AxesSubplot at 0x7f420b3f5bd0>"
            ]
          },
          "metadata": {},
          "execution_count": 20
        },
        {
          "output_type": "display_data",
          "data": {
            "text/plain": [
              "<Figure size 576x432 with 1 Axes>"
            ],
            "image/png": "[encoded data removed]"
          },
          "metadata": {
            "needs_background": "light"
          }
        }
      ]
    },
    {
      "cell_type": "markdown",
      "metadata": {
        "id": "ZBBmdxZ2HgfJ"
      },
      "source": [
        "## Data windowing\n",
        "\n",
        "Here I used tutorial function to generate datawindows"
      ]
    },
    {
      "cell_type": "markdown",
      "metadata": {
        "id": "rfx3jGjyziUF"
      },
      "source": [
        "### 1. Indexes and offsets\n"
      ]
    },
    {
      "cell_type": "code",
      "execution_count": 21,
      "metadata": {
        "id": "Kem30j8QHxyW"
      },
      "outputs": [],
      "source": [
        "# From TF Tutorial.\n",
        "class WindowGenerator():\n",
        "  def __init__(self, input_width, label_width, shift,\n",
        "               train_df=train_df, val_df=val_df, test_df=test_df,\n",
        "               label_columns=None):\n",
        "    # [DP] Store the raw data.\n",
        "    self.train_df = train_df\n",
        "    self.val_df = val_df\n",
        "    self.test_df = test_df\n",
        "\n",
        "    self.label_columns = label_columns\n",
        "    if label_columns is not None: # [DP] if there is multiple column predictions\n",
        "      # [DP] put the column names (in this case 'traffic_volume')\n",
        "      # and the indices in a dictionary\n",
        "      self.label_columns_indices = {name: i for i, name in\n",
        "                                    enumerate(label_columns)}\n",
        "    # [DP] keep a dictionary of column details\n",
        "    self.column_indices = {name: i for i, name in\n",
        "                           enumerate(train_df.columns)}\n",
        "\n",
        "    # [DP] keep the window parameters\n",
        "    self.input_width = input_width\n",
        "    self.label_width = label_width # [DP] in this exercise this is 1\n",
        "    self.shift = shift # [DP] future prediction\n",
        "\n",
        "    self.total_window_size = input_width + shift\n",
        "\n",
        "    self.input_slice = slice(0, input_width) # [DP] create clice vector\n",
        "    self.input_indices = np.arange(self.total_window_size)[self.input_slice]\n",
        "\n",
        "    self.label_start = self.total_window_size - self.label_width\n",
        "    self.labels_slice = slice(self.label_start, None)\n",
        "    self.label_indices = np.arange(self.total_window_size)[self.labels_slice]\n",
        "\n",
        "  def __repr__(self):\n",
        "    return '\\n'.join([\n",
        "        f'Total window size: {self.total_window_size}',\n",
        "        f'Input indices: {self.input_indices}',\n",
        "        f'Label indices: {self.label_indices}',\n",
        "        f'Label column name(s): {self.label_columns}'])"
      ]
    },
    {
      "cell_type": "markdown",
      "metadata": {
        "id": "kJaUyTWQJd-L"
      },
      "source": [
        "### 2. Split\n",
        "\n",
        "Uses the generated indeces to split the data into seperate sets (inputs and labels)"
      ]
    },
    {
      "cell_type": "code",
      "execution_count": 22,
      "metadata": {
        "id": "W4KbxfzqkXPW"
      },
      "outputs": [],
      "source": [
        "# From TF Tutorial.\n",
        "def split_window(self, features):\n",
        "  inputs = features[:, self.input_slice, :] # extract variables\n",
        "  labels = features[:, self.labels_slice, :] # extract lables. here only one\n",
        "  if self.label_columns is not None:\n",
        "    labels = tf.stack(\n",
        "        [labels[:, :, self.column_indices[name]] for name in self.label_columns],\n",
        "        axis=-1)\n",
        "\n",
        "  # [TF]Slicing doesn't preserve static shape information, so set the shapes\n",
        "  # [TF]manually. This way the `tf.data.Datasets` are easier to inspect.\n",
        "  inputs.set_shape([None, self.input_width, None])\n",
        "  labels.set_shape([None, self.label_width, None])\n",
        "\n",
        "  return inputs, labels\n",
        "\n",
        "WindowGenerator.split_window = split_window"
      ]
    },
    {
      "cell_type": "markdown",
      "metadata": {
        "id": "tFZukGXrJoGo"
      },
      "source": [
        "### 3. Plot\n",
        "\n",
        "Here is a plot method that allows a simple visualization of the split window:"
      ]
    },
    {
      "cell_type": "code",
      "execution_count": 52,
      "metadata": {
        "id": "jIrYccI-Hm3B"
      },
      "outputs": [],
      "source": [
        "# From TF Tutorial.\n",
        "# modified to match with our dataset\n",
        "def plot(self, model=None, plot_col='traffic_volume', max_subplots=3):\n",
        "  inputs, labels = self.example # [DP] since not example, it uses train function\n",
        "  plt.figure(figsize=(12, 8))\n",
        "  plot_col_index = self.column_indices[plot_col]\n",
        "  max_n = min(max_subplots, len(inputs))\n",
        "  for n in range(max_n):\n",
        "    plt.subplot(max_n, 1, n+1)\n",
        "    plt.ylabel(f'{plot_col} [normed]')\n",
        "\n",
        "    # [DP] plot original data\n",
        "    plt.plot(self.input_indices, inputs[n, :,plot_col_index],\n",
        "             label='Inputs', marker='.', zorder=-10)\n",
        "\n",
        "    if self.label_columns: # [DP] get the label column index here it is None\n",
        "      label_col_index = self.label_columns_indices.get(plot_col, None)\n",
        "    else:\n",
        "      label_col_index = plot_col_index # [DP] label is explicitly given here\n",
        "\n",
        "    # [DP] if no label is given the just plot only the data (no predictions)\n",
        "    # because no lebel to compare the predictions\n",
        "    if label_col_index is None:\n",
        "      continue\n",
        "\n",
        "    # [DP] plot symbols on top of original data\n",
        "    plt.scatter(self.label_indices, labels[n, label_col_index],\n",
        "                edgecolors='k', label='Labels', c='#2ca02c', s=64)\n",
        "    \n",
        "    if model is not None: # [DP] use the predicted values to plot\n",
        "      predictions = model(inputs)\n",
        "      # [DP] plot predictions\n",
        "      plt.scatter(self.label_indices, predictions[n, label_col_index],\n",
        "                  marker='X', edgecolors='k', label='Predictions',\n",
        "                  c='#ff7f0e', s=64)\n",
        "\n",
        "    if n == 0:\n",
        "      plt.legend()\n",
        "\n",
        "  plt.xlabel('Time [h]')\n",
        "\n",
        "WindowGenerator.plot = plot"
      ]
    },
    {
      "cell_type": "markdown",
      "metadata": {
        "id": "xCvD-UaUzYMw"
      },
      "source": [
        "### 4. Create `tf.data.Dataset`s"
      ]
    },
    {
      "cell_type": "markdown",
      "metadata": {
        "id": "kLO3SFR9Osdf"
      },
      "source": [
        "Create the datasets using the calculated indeces."
      ]
    },
    {
      "cell_type": "code",
      "execution_count": 24,
      "metadata": {
        "id": "35qoSQeRVfJg"
      },
      "outputs": [],
      "source": [
        "# From TF Tutorial.\n",
        "def make_dataset(self, data):\n",
        "  data = np.array(data, dtype=np.float32)\n",
        "  ds = tf.keras.utils.timeseries_dataset_from_array(\n",
        "      data=data,\n",
        "      targets=None,\n",
        "      sequence_length=self.total_window_size,\n",
        "      sequence_stride=1,\n",
        "      shuffle=False, # make it False\n",
        "      batch_size=batchsize,)\n",
        "\n",
        "  ds = ds.map(self.split_window)\n",
        "\n",
        "  return ds\n",
        "\n",
        "WindowGenerator.make_dataset = make_dataset"
      ]
    },
    {
      "cell_type": "code",
      "execution_count": 25,
      "metadata": {
        "id": "2jZ2KkqGCfzu"
      },
      "outputs": [],
      "source": [
        "# From TF Tutorial.\n",
        "@property\n",
        "def train(self):\n",
        "  return self.make_dataset(self.train_df)\n",
        "\n",
        "@property\n",
        "def val(self):\n",
        "  return self.make_dataset(self.val_df)\n",
        "\n",
        "@property\n",
        "def test(self):\n",
        "  return self.make_dataset(self.test_df)\n",
        "\n",
        "@property\n",
        "def example(self):\n",
        "  \"\"\"Get and cache an example batch of `inputs, labels` for plotting.\"\"\"\n",
        "  result = getattr(self, '_example', None)\n",
        "  if result is None:\n",
        "    # [TF] No example batch was found, so get one from the `.train` dataset\n",
        "    result = next(iter(self.train))\n",
        "    # [TF} And cache it for next time\n",
        "    self._example = result\n",
        "  return result\n",
        "\n",
        "WindowGenerator.train = train\n",
        "WindowGenerator.val = val\n",
        "WindowGenerator.test = test\n",
        "WindowGenerator.example = example"
      ]
    },
    {
      "cell_type": "markdown",
      "metadata": {
        "id": "XKTx3_Z7ua-n"
      },
      "source": [
        "Generate data windows for baseline and RNN"
      ]
    },
    {
      "cell_type": "code",
      "execution_count": 26,
      "metadata": {
        "id": "G5QX1G1JTPCr",
        "colab": {
          "base_uri": "https://localhost:8080/"
        },
        "outputId": "ade497f3-0f21-4997-c5d3-b3ee25a577b3"
      },
      "outputs": [
        {
          "output_type": "execute_result",
          "data": {
            "text/plain": [
              "Total window size: 15\n",
              "Input indices: [ 0  1  2  3  4  5  6  7  8  9 10 11]\n",
              "Label indices: [14]\n",
              "Label column name(s): ['traffic_volume']"
            ]
          },
          "metadata": {},
          "execution_count": 26
        }
      ],
      "source": [
        "batchsize = 32 # this is a global variable. It uses in the data generation and\n",
        "               # used to change during the parameter tuning.\n",
        "data_window = WindowGenerator(\n",
        "    input_width=12, label_width=1, shift=3,\n",
        "    label_columns=['traffic_volume'])\n",
        "data_window"
      ]
    },
    {
      "cell_type": "code",
      "execution_count": 27,
      "metadata": {
        "id": "Do4ILUaBF8oc",
        "colab": {
          "base_uri": "https://localhost:8080/"
        },
        "outputId": "773a341a-3bd6-43bf-efe1-3c31182e3db6"
      },
      "outputs": [
        {
          "output_type": "stream",
          "name": "stdout",
          "text": [
            "Inputs shape (batch, time, features): (32, 12, 6)\n",
            "Labels shape (batch, time, features): (32, 1, 1)\n"
          ]
        }
      ],
      "source": [
        "# from TF tutorial\n",
        "for example_inputs, example_labels in data_window.train.take(1):\n",
        "  print(f'Inputs shape (batch, time, features): {example_inputs.shape}')\n",
        "  print(f'Labels shape (batch, time, features): {example_labels.shape}')"
      ]
    },
    {
      "cell_type": "markdown",
      "metadata": {
        "id": "D1bbPiR3VAm_"
      },
      "source": [
        "### Baseline\n",
        "\n",
        "Define a baseline model for comparision\n"
      ]
    },
    {
      "cell_type": "code",
      "execution_count": 28,
      "metadata": {
        "id": "9TybQaIsi3yg"
      },
      "outputs": [],
      "source": [
        "# From TF Tutorial.\n",
        "class Baseline(tf.keras.Model):\n",
        "  def __init__(self, label_index=None):\n",
        "    super().__init__()\n",
        "    self.label_index = label_index\n",
        "  \n",
        "  # outputs the given input value\n",
        "  def call(self, inputs):\n",
        "    if self.label_index is None:\n",
        "      return inputs\n",
        "    result = inputs[:, :, self.label_index]\n",
        "    return result[:, :, tf.newaxis]"
      ]
    },
    {
      "cell_type": "markdown",
      "metadata": {
        "id": "0vb3f948i8p8"
      },
      "source": [
        "Evaluate the model"
      ]
    },
    {
      "cell_type": "code",
      "execution_count": 29,
      "metadata": {
        "id": "IS3-QKc4sX0D",
        "colab": {
          "base_uri": "https://localhost:8080/"
        },
        "outputId": "487eca29-0499-4325-ef49-7a3d9212ee4d"
      },
      "outputs": [
        {
          "output_type": "stream",
          "name": "stdout",
          "text": [
            "334/334 [==============================] - 2s 6ms/step - loss: 2.4140 - mean_absolute_error: 1.3282\n"
          ]
        }
      ],
      "source": [
        "# From TF Tutorial.\n",
        "baseline = Baseline(label_index=column_indices['traffic_volume'])\n",
        "\n",
        "baseline.compile(loss=tf.keras.losses.MeanSquaredError(),\n",
        "                 metrics=[tf.keras.metrics.MeanAbsoluteError()])\n",
        "\n",
        "val_performance = {} # [DP] use for the comparision\n",
        "performance = {}\n",
        "val_performance['Baseline'] = baseline.evaluate(data_window.val)\n",
        "performance['Baseline'] = baseline.evaluate(data_window.test, verbose=0)"
      ]
    },
    {
      "cell_type": "markdown",
      "metadata": {
        "id": "SKqQHX1K0JW-"
      },
      "source": [
        "Baseline does not give any good results. "
      ]
    },
    {
      "cell_type": "code",
      "execution_count": 30,
      "metadata": {
        "id": "jQyAPVLgWTOZ",
        "colab": {
          "base_uri": "https://localhost:8080/",
          "height": 500
        },
        "outputId": "23feb4b7-4521-4b3b-d581-8b26d6d4a788"
      },
      "outputs": [
        {
          "output_type": "display_data",
          "data": {
            "text/plain": [
              "<Figure size 864x576 with 3 Axes>"
            ],
            "image/png": "[encoded data removed]"
          },
          "metadata": {
            "needs_background": "light"
          }
        }
      ],
      "source": [
        "data_window.plot(baseline)"
      ]
    },
    {
      "cell_type": "markdown",
      "source": [
        "### Setup the compilation"
      ],
      "metadata": {
        "id": "VBfQzbfc8qw1"
      }
    },
    {
      "cell_type": "code",
      "execution_count": 31,
      "metadata": {
        "id": "CbCL6VIrk-Gt"
      },
      "outputs": [],
      "source": [
        "# From TF Tutorial.\n",
        "MAX_EPOCHS = 25\n",
        "\n",
        "def compile_and_fit(model, window, patience=3):\n",
        "  # [DP] define early stop which preserv the best model\n",
        "  # the callback function check the validation loss and when it hit the bottom\n",
        "  # and start to rise, function wait for 3 epochs and stop the training\n",
        "  early_stopping = tf.keras.callbacks.EarlyStopping(monitor='val_loss',\n",
        "                                                    patience=patience,\n",
        "                                                    mode='min')\n",
        "\n",
        "  model.compile(loss=tf.keras.losses.MeanSquaredError(),\n",
        "                optimizer=tf.keras.optimizers.Adam(),\n",
        "                metrics=[tf.keras.metrics.MeanAbsoluteError()])\n",
        "\n",
        " # [DP] this for statefulness analysis. The batch size should be same for each case.\n",
        "  history = model.fit(window.train.take(2764), epochs=MAX_EPOCHS, \n",
        "                      validation_data=window.val.take(1184), \n",
        "                      callbacks=[early_stopping])\n",
        "  # history = model.fit(window.train, epochs=MAX_EPOCHS, \n",
        "  #                     validation_data=window.val, \n",
        "  #                     callbacks=[early_stopping])\n",
        "  return history"
      ]
    },
    {
      "cell_type": "markdown",
      "metadata": {
        "id": "H4crpOcoMlSe"
      },
      "source": [
        "### Recurrent neural network\n"
      ]
    },
    {
      "cell_type": "markdown",
      "source": [
        "Model generation"
      ],
      "metadata": {
        "id": "wZzxNsqmrrGo"
      }
    },
    {
      "cell_type": "code",
      "source": [
        "def lstmLayers(n, l, stateful = False, d = 0.0):\n",
        "  # [DP] batch_input_shape = (batchsize, 12, 6)\n",
        "  # [DP] the function returns differen size of model with given parameters\n",
        "  if l == 1:\n",
        "    model = tf.keras.models.Sequential([\n",
        "      tf.keras.layers.LSTM(n, return_sequences=False, recurrent_dropout=d, stateful=stateful),\n",
        "      tf.keras.layers.Dense(units=1)\n",
        "    ])\n",
        "    return model\n",
        "  elif l == 2:\n",
        "    model = tf.keras.models.Sequential([\n",
        "      tf.keras.layers.LSTM(n, return_sequences=True, recurrent_dropout=d, stateful=stateful, batch_input_shape = (batchsize, 12, 6)),\n",
        "      tf.keras.layers.LSTM(n, return_sequences=False, recurrent_dropout=d, stateful=stateful),\n",
        "      tf.keras.layers.Dense(units=1)\n",
        "    ])\n",
        "    return model \n",
        "  elif l == 3:\n",
        "    model = tf.keras.models.Sequential([\n",
        "      tf.keras.layers.LSTM(n, return_sequences=True, recurrent_dropout=d, stateful=stateful, batch_input_shape = (batchsize, 12, 6)),\n",
        "      tf.keras.layers.LSTM(n, return_sequences=True, recurrent_dropout=d, stateful=stateful),\n",
        "      tf.keras.layers.LSTM(n, return_sequences=False, recurrent_dropout=d, stateful=stateful),\n",
        "      tf.keras.layers.Dense(units=1)\n",
        "    ])\n",
        "    return model\n",
        "  elif l == 4:\n",
        "    model = tf.keras.models.Sequential([\n",
        "      tf.keras.layers.LSTM(n, return_sequences=True, recurrent_dropout=d, stateful=stateful, batch_input_shape = (batchsize, 12, 6)),\n",
        "      tf.keras.layers.LSTM(n, return_sequences=True, recurrent_dropout=d, stateful=stateful),\n",
        "      tf.keras.layers.LSTM(n, return_sequences=True, recurrent_dropout=d, stateful=stateful),\n",
        "      tf.keras.layers.LSTM(n, return_sequences=False, recurrent_dropout=d, stateful=stateful),\n",
        "      tf.keras.layers.Dense(units=1)\n",
        "    ])\n",
        "    return model\n",
        "  elif l == 5:\n",
        "    model = tf.keras.models.Sequential([\n",
        "      tf.keras.layers.LSTM(n, return_sequences=True, recurrent_dropout=d, stateful=stateful, batch_input_shape = (batchsize, 12, 6)),\n",
        "      tf.keras.layers.LSTM(n, return_sequences=True, recurrent_dropout=d, stateful=stateful),\n",
        "      tf.keras.layers.LSTM(n, return_sequences=True, recurrent_dropout=d, stateful=stateful),\n",
        "      tf.keras.layers.LSTM(n, return_sequences=True, recurrent_dropout=d, stateful=stateful),\n",
        "      tf.keras.layers.LSTM(n, return_sequences=False, recurrent_dropout=d, stateful=stateful),\n",
        "      tf.keras.layers.Dense(units=1)\n",
        "    ])\n",
        "    return model"
      ],
      "metadata": {
        "id": "DxdD7qEFrtSq"
      },
      "execution_count": 32,
      "outputs": []
    },
    {
      "cell_type": "markdown",
      "source": [
        "### ***Best Model\n",
        "create the model and train it"
      ],
      "metadata": {
        "id": "Orm5jrMmsDLo"
      }
    },
    {
      "cell_type": "code",
      "execution_count": 35,
      "metadata": {
        "id": "DXKLCJy8nWNU",
        "colab": {
          "base_uri": "https://localhost:8080/"
        },
        "outputId": "61117563-9420-4dfd-94e1-7f1a667b0108"
      },
      "outputs": [
        {
          "output_type": "stream",
          "name": "stdout",
          "text": [
            "Epoch 1/25\n",
            "2764/2764 [==============================] - 34s 11ms/step - loss: 0.3309 - mean_absolute_error: 0.4061 - val_loss: 0.1329 - val_mean_absolute_error: 0.2533\n",
            "Epoch 2/25\n",
            "2764/2764 [==============================] - 31s 11ms/step - loss: 0.1951 - mean_absolute_error: 0.2883 - val_loss: 0.0869 - val_mean_absolute_error: 0.2004\n",
            "Epoch 3/25\n",
            "2764/2764 [==============================] - 38s 14ms/step - loss: 0.1560 - mean_absolute_error: 0.2516 - val_loss: 0.0803 - val_mean_absolute_error: 0.1898\n",
            "Epoch 4/25\n",
            "2764/2764 [==============================] - 28s 10ms/step - loss: 0.1378 - mean_absolute_error: 0.2350 - val_loss: 0.0793 - val_mean_absolute_error: 0.1879\n",
            "Epoch 5/25\n",
            "2764/2764 [==============================] - 35s 13ms/step - loss: 0.1269 - mean_absolute_error: 0.2243 - val_loss: 0.0761 - val_mean_absolute_error: 0.1820\n",
            "Epoch 6/25\n",
            "2764/2764 [==============================] - 32s 12ms/step - loss: 0.1179 - mean_absolute_error: 0.2147 - val_loss: 0.0684 - val_mean_absolute_error: 0.1721\n",
            "Epoch 7/25\n",
            "2764/2764 [==============================] - 30s 11ms/step - loss: 0.1113 - mean_absolute_error: 0.2072 - val_loss: 0.0639 - val_mean_absolute_error: 0.1681\n",
            "Epoch 8/25\n",
            "2764/2764 [==============================] - 34s 12ms/step - loss: 0.1059 - mean_absolute_error: 0.2022 - val_loss: 0.0621 - val_mean_absolute_error: 0.1650\n",
            "Epoch 9/25\n",
            "2764/2764 [==============================] - 30s 11ms/step - loss: 0.1035 - mean_absolute_error: 0.1996 - val_loss: 0.0588 - val_mean_absolute_error: 0.1592\n",
            "Epoch 10/25\n",
            "2764/2764 [==============================] - 28s 10ms/step - loss: 0.1002 - mean_absolute_error: 0.1954 - val_loss: 0.0574 - val_mean_absolute_error: 0.1539\n",
            "Epoch 11/25\n",
            "2764/2764 [==============================] - 33s 12ms/step - loss: 0.0967 - mean_absolute_error: 0.1918 - val_loss: 0.0558 - val_mean_absolute_error: 0.1504\n",
            "Epoch 12/25\n",
            "2764/2764 [==============================] - 30s 11ms/step - loss: 0.0932 - mean_absolute_error: 0.1880 - val_loss: 0.0546 - val_mean_absolute_error: 0.1501\n",
            "Epoch 13/25\n",
            "2764/2764 [==============================] - 33s 12ms/step - loss: 0.0907 - mean_absolute_error: 0.1855 - val_loss: 0.0555 - val_mean_absolute_error: 0.1492\n",
            "Epoch 14/25\n",
            "2764/2764 [==============================] - 34s 12ms/step - loss: 0.0918 - mean_absolute_error: 0.1847 - val_loss: 0.0519 - val_mean_absolute_error: 0.1458\n",
            "Epoch 15/25\n",
            "2764/2764 [==============================] - 31s 11ms/step - loss: 0.0837 - mean_absolute_error: 0.1780 - val_loss: 0.0533 - val_mean_absolute_error: 0.1457\n",
            "Epoch 16/25\n",
            "2764/2764 [==============================] - 36s 13ms/step - loss: 0.0830 - mean_absolute_error: 0.1776 - val_loss: 0.0515 - val_mean_absolute_error: 0.1443\n",
            "Epoch 17/25\n",
            "2764/2764 [==============================] - 33s 12ms/step - loss: 0.0798 - mean_absolute_error: 0.1754 - val_loss: 0.0508 - val_mean_absolute_error: 0.1428\n",
            "Epoch 18/25\n",
            "2764/2764 [==============================] - 28s 10ms/step - loss: 0.0779 - mean_absolute_error: 0.1724 - val_loss: 0.0547 - val_mean_absolute_error: 0.1469\n",
            "Epoch 19/25\n",
            "2764/2764 [==============================] - 34s 12ms/step - loss: 0.0771 - mean_absolute_error: 0.1711 - val_loss: 0.0504 - val_mean_absolute_error: 0.1412\n",
            "Epoch 20/25\n",
            "2764/2764 [==============================] - 28s 10ms/step - loss: 0.0747 - mean_absolute_error: 0.1693 - val_loss: 0.0495 - val_mean_absolute_error: 0.1426\n",
            "Epoch 21/25\n",
            "2764/2764 [==============================] - 28s 10ms/step - loss: 0.0721 - mean_absolute_error: 0.1670 - val_loss: 0.0487 - val_mean_absolute_error: 0.1394\n",
            "Epoch 22/25\n",
            "2764/2764 [==============================] - 28s 10ms/step - loss: 0.0697 - mean_absolute_error: 0.1646 - val_loss: 0.0492 - val_mean_absolute_error: 0.1418\n",
            "Epoch 23/25\n",
            "2764/2764 [==============================] - 28s 10ms/step - loss: 0.0686 - mean_absolute_error: 0.1630 - val_loss: 0.0509 - val_mean_absolute_error: 0.1411\n",
            "Epoch 24/25\n",
            "2764/2764 [==============================] - 28s 10ms/step - loss: 0.0656 - mean_absolute_error: 0.1605 - val_loss: 0.0484 - val_mean_absolute_error: 0.1379\n",
            "Epoch 25/25\n",
            "2764/2764 [==============================] - 28s 10ms/step - loss: 0.0647 - mean_absolute_error: 0.1601 - val_loss: 0.0487 - val_mean_absolute_error: 0.1402\n"
          ]
        }
      ],
      "source": [
        "batchsize = 9\n",
        "model = lstmLayers(64, 4, stateful = True, d = 0.0)\n",
        "history = compile_and_fit(model, data_window, 3)"
      ]
    },
    {
      "cell_type": "code",
      "source": [
        "val_performance['LSTM_best'] = model.evaluate(data_window.val.take(1184))\n",
        "performance['LSTM_best'] = model.evaluate(data_window.test, verbose=0)"
      ],
      "metadata": {
        "colab": {
          "base_uri": "https://localhost:8080/"
        },
        "id": "ZHMLGqPOwEij",
        "outputId": "27bef87c-e8e7-41e6-bd34-707e7ac5f880"
      },
      "execution_count": 36,
      "outputs": [
        {
          "output_type": "stream",
          "name": "stdout",
          "text": [
            "1184/1184 [==============================] - 6s 5ms/step - loss: 0.0487 - mean_absolute_error: 0.1402\n"
          ]
        }
      ]
    },
    {
      "cell_type": "markdown",
      "source": [
        "Evaluate the testing data set"
      ],
      "metadata": {
        "id": "anDYN7sdsHTs"
      }
    },
    {
      "cell_type": "code",
      "execution_count": 37,
      "metadata": {
        "id": "eZEROCQVYV6q",
        "colab": {
          "base_uri": "https://localhost:8080/"
        },
        "outputId": "f5a171c2-5dd8-46b6-d209-a57a8ea1636c"
      },
      "outputs": [
        {
          "output_type": "stream",
          "name": "stdout",
          "text": [
            "[0.034763697534799576, 0.12576602399349213]\n"
          ]
        }
      ],
      "source": [
        "print(model.evaluate(data_window.test, verbose=0))"
      ]
    },
    {
      "cell_type": "markdown",
      "source": [
        "Plot the model perfomacne during the training"
      ],
      "metadata": {
        "id": "y-j2MHnLsz1W"
      }
    },
    {
      "cell_type": "code",
      "source": [
        "xticks = [str(x) for x in range(MAX_EPOCHS)] # x-axis stick labels\n",
        "tr = np.array(history.history['mean_absolute_error'])\n",
        "ts = np.array(history.history['val_mean_absolute_error'])\n",
        "xaxis = np.arange(1, len(tr)+1, 1)\n",
        "plt.figure(1, figsize=(12, 5), dpi=120)\n",
        "plt.plot(xaxis, tr, xaxis, ts)\n",
        "plt.xticks(xaxis, xticks)\n",
        "plt.xlabel(\"Epochs\")\n",
        "plt.ylabel(\"Loss\")\n",
        "plt.title(\"Loss Analysis\")\n",
        "plt.legend((\"Train\", \"Validation\"))"
      ],
      "metadata": {
        "colab": {
          "base_uri": "https://localhost:8080/",
          "height": 591
        },
        "id": "CgX_bIjQs5Sb",
        "outputId": "31806431-a004-4892-a9a5-51568f388818"
      },
      "execution_count": 42,
      "outputs": [
        {
          "output_type": "execute_result",
          "data": {
            "text/plain": [
              "<matplotlib.legend.Legend at 0x7f4190263bd0>"
            ]
          },
          "metadata": {},
          "execution_count": 42
        },
        {
          "output_type": "display_data",
          "data": {
            "text/plain": [
              "<Figure size 1440x600 with 1 Axes>"
            ],
            "image/png": "[encoded data removed]"
          },
          "metadata": {
            "needs_background": "light"
          }
        }
      ]
    },
    {
      "cell_type": "markdown",
      "source": [
        "### second best model"
      ],
      "metadata": {
        "id": "Txuy7ZnGw651"
      }
    },
    {
      "cell_type": "code",
      "source": [
        "batchsize = 9\n",
        "model2 = lstmLayers(64, 2, stateful = True, d = 0.0)\n",
        "history = compile_and_fit(model2, data_window, 3)"
      ],
      "metadata": {
        "colab": {
          "base_uri": "https://localhost:8080/"
        },
        "id": "WE7Gn2h7w-1_",
        "outputId": "0771281b-7ce5-41b6-f24d-13d55560f9c6"
      },
      "execution_count": 43,
      "outputs": [
        {
          "output_type": "stream",
          "name": "stdout",
          "text": [
            "Epoch 1/25\n",
            "2764/2764 [==============================] - 24s 8ms/step - loss: 0.2919 - mean_absolute_error: 0.3771 - val_loss: 0.1423 - val_mean_absolute_error: 0.2765\n",
            "Epoch 2/25\n",
            "2764/2764 [==============================] - 19s 7ms/step - loss: 0.1893 - mean_absolute_error: 0.2851 - val_loss: 0.0995 - val_mean_absolute_error: 0.2171\n",
            "Epoch 3/25\n",
            "2764/2764 [==============================] - 21s 8ms/step - loss: 0.1617 - mean_absolute_error: 0.2559 - val_loss: 0.0827 - val_mean_absolute_error: 0.1944\n",
            "Epoch 4/25\n",
            "2764/2764 [==============================] - 20s 7ms/step - loss: 0.1434 - mean_absolute_error: 0.2376 - val_loss: 0.0791 - val_mean_absolute_error: 0.1871\n",
            "Epoch 5/25\n",
            "2764/2764 [==============================] - 22s 8ms/step - loss: 0.1305 - mean_absolute_error: 0.2250 - val_loss: 0.0750 - val_mean_absolute_error: 0.1827\n",
            "Epoch 6/25\n",
            "2764/2764 [==============================] - 21s 8ms/step - loss: 0.1218 - mean_absolute_error: 0.2165 - val_loss: 0.0712 - val_mean_absolute_error: 0.1775\n",
            "Epoch 7/25\n",
            "2764/2764 [==============================] - 21s 7ms/step - loss: 0.1146 - mean_absolute_error: 0.2092 - val_loss: 0.0684 - val_mean_absolute_error: 0.1747\n",
            "Epoch 8/25\n",
            "2764/2764 [==============================] - 20s 7ms/step - loss: 0.1103 - mean_absolute_error: 0.2045 - val_loss: 0.0644 - val_mean_absolute_error: 0.1705\n",
            "Epoch 9/25\n",
            "2764/2764 [==============================] - 19s 7ms/step - loss: 0.1030 - mean_absolute_error: 0.1976 - val_loss: 0.0623 - val_mean_absolute_error: 0.1632\n",
            "Epoch 10/25\n",
            "2764/2764 [==============================] - 21s 7ms/step - loss: 0.0989 - mean_absolute_error: 0.1942 - val_loss: 0.0587 - val_mean_absolute_error: 0.1592\n",
            "Epoch 11/25\n",
            "2764/2764 [==============================] - 20s 7ms/step - loss: 0.0951 - mean_absolute_error: 0.1908 - val_loss: 0.0562 - val_mean_absolute_error: 0.1537\n",
            "Epoch 12/25\n",
            "2764/2764 [==============================] - 19s 7ms/step - loss: 0.0913 - mean_absolute_error: 0.1879 - val_loss: 0.0571 - val_mean_absolute_error: 0.1543\n",
            "Epoch 13/25\n",
            "2764/2764 [==============================] - 19s 7ms/step - loss: 0.0893 - mean_absolute_error: 0.1852 - val_loss: 0.0538 - val_mean_absolute_error: 0.1509\n",
            "Epoch 14/25\n",
            "2764/2764 [==============================] - 21s 8ms/step - loss: 0.0868 - mean_absolute_error: 0.1825 - val_loss: 0.0567 - val_mean_absolute_error: 0.1503\n",
            "Epoch 15/25\n",
            "2764/2764 [==============================] - 21s 8ms/step - loss: 0.0838 - mean_absolute_error: 0.1800 - val_loss: 0.0522 - val_mean_absolute_error: 0.1478\n",
            "Epoch 16/25\n",
            "2764/2764 [==============================] - 20s 7ms/step - loss: 0.0814 - mean_absolute_error: 0.1781 - val_loss: 0.0527 - val_mean_absolute_error: 0.1473\n",
            "Epoch 17/25\n",
            "2764/2764 [==============================] - 21s 8ms/step - loss: 0.0787 - mean_absolute_error: 0.1755 - val_loss: 0.0535 - val_mean_absolute_error: 0.1482\n",
            "Epoch 18/25\n",
            "2764/2764 [==============================] - 20s 7ms/step - loss: 0.0785 - mean_absolute_error: 0.1751 - val_loss: 0.0499 - val_mean_absolute_error: 0.1445\n",
            "Epoch 19/25\n",
            "2764/2764 [==============================] - 19s 7ms/step - loss: 0.0745 - mean_absolute_error: 0.1714 - val_loss: 0.0512 - val_mean_absolute_error: 0.1446\n",
            "Epoch 20/25\n",
            "2764/2764 [==============================] - 21s 8ms/step - loss: 0.0745 - mean_absolute_error: 0.1711 - val_loss: 0.0519 - val_mean_absolute_error: 0.1481\n",
            "Epoch 21/25\n",
            "2764/2764 [==============================] - 20s 7ms/step - loss: 0.0717 - mean_absolute_error: 0.1689 - val_loss: 0.0504 - val_mean_absolute_error: 0.1456\n"
          ]
        }
      ]
    },
    {
      "cell_type": "code",
      "source": [
        "val_performance['LSTM_secondBest'] = model2.evaluate(data_window.val.take(1184))\n",
        "performance['LSTM_secondBest'] = model2.evaluate(data_window.test, verbose=0)"
      ],
      "metadata": {
        "colab": {
          "base_uri": "https://localhost:8080/"
        },
        "id": "VYm7use5xMLr",
        "outputId": "4fc092c5-5844-4fa1-de21-81973d6604c2"
      },
      "execution_count": 44,
      "outputs": [
        {
          "output_type": "stream",
          "name": "stdout",
          "text": [
            "1184/1184 [==============================] - 5s 4ms/step - loss: 0.0504 - mean_absolute_error: 0.1456\n"
          ]
        }
      ]
    },
    {
      "cell_type": "markdown",
      "metadata": {
        "id": "pYglOCKehi8F"
      },
      "source": [
        "### Performance"
      ]
    },
    {
      "cell_type": "markdown",
      "metadata": {
        "id": "2pCk0_rwhi8H"
      },
      "source": [
        "With this dataset typically each of the models does slightly better than the one before it:"
      ]
    },
    {
      "cell_type": "code",
      "execution_count": 45,
      "metadata": {
        "id": "JjEkt488hi8I",
        "colab": {
          "base_uri": "https://localhost:8080/",
          "height": 438
        },
        "outputId": "443d6ed7-39dc-4d51-fa43-7211fefa327b"
      },
      "outputs": [
        {
          "output_type": "display_data",
          "data": {
            "text/plain": [
              "<Figure size 576x432 with 1 Axes>"
            ],
            "image/png": "[encoded data removed]"
          },
          "metadata": {
            "needs_background": "light"
          }
        }
      ],
      "source": [
        "# From TF Tutorial.\n",
        "# [DP] plot the performance of baseline and the best model\n",
        "x = np.arange(len(performance))\n",
        "width = 0.3\n",
        "metric_name = 'mean_absolute_error'\n",
        "metric_index = model.metrics_names.index('mean_absolute_error')\n",
        "val_mae = [v[metric_index] for v in val_performance.values()]\n",
        "test_mae = [v[metric_index] for v in performance.values()]\n",
        "\n",
        "plt.ylabel('mean_absolute_error [T (degC), normalized]')\n",
        "plt.bar(x - 0.17, val_mae, width, label='Validation')\n",
        "plt.bar(x + 0.17, test_mae, width, label='Test')\n",
        "plt.xticks(ticks=x, labels=performance.keys(),\n",
        "           rotation=45)\n",
        "_ = plt.legend()"
      ]
    },
    {
      "cell_type": "code",
      "execution_count": 46,
      "metadata": {
        "id": "cBMCpsdphi8L",
        "colab": {
          "base_uri": "https://localhost:8080/"
        },
        "outputId": "051e1488-4691-426e-be9f-8f98b69e1df0"
      },
      "outputs": [
        {
          "output_type": "stream",
          "name": "stdout",
          "text": [
            "Baseline    : 1.3362\n",
            "LSTM        : 0.1258\n",
            "LSTM_secondBest: 0.1322\n"
          ]
        }
      ],
      "source": [
        "for name, value in performance.items():\n",
        "  print(f'{name:12s}: {value[1]:0.4f}')"
      ]
    },
    {
      "cell_type": "markdown",
      "source": [
        "values are not as same as mentioned in the report due to the random variable initialization."
      ],
      "metadata": {
        "id": "CI1gVKCW3nJT"
      }
    },
    {
      "cell_type": "markdown",
      "source": [
        "## Prediction and save\n",
        "\n",
        "Predict the values and save them in a csv file"
      ],
      "metadata": {
        "id": "9CngUEl81ce_"
      }
    },
    {
      "cell_type": "code",
      "source": [
        "pred = model.predict(data_window.test)\n",
        "correct_pred = pred.flatten().flatten().tolist()"
      ],
      "metadata": {
        "colab": {
          "base_uri": "https://localhost:8080/"
        },
        "id": "QGUOuvP81kSx",
        "outputId": "f1cd4aea-0d3a-4b43-8eaa-1b43aa9c9573"
      },
      "execution_count": 47,
      "outputs": [
        {
          "output_type": "stream",
          "name": "stdout",
          "text": [
            "554/554 [==============================] - 4s 5ms/step\n"
          ]
        }
      ]
    },
    {
      "cell_type": "code",
      "source": [
        "# mount the driver\n",
        "drive.mount(\"/content/drive\") \n",
        "\n",
        "# header names\n",
        "csv_header = ['id' , 'prediction']\n",
        "with open('/content/drive/My Drive/CSC 578 - NN and DL/FinalProject/submission.csv', 'w', encoding='UTF8', newline='') as sub:\n",
        "    writer = csv.writer(sub)\n",
        "    writer.writerow(csv_header) # write the headers\n",
        "    \n",
        "    count = 0\n",
        "    for i in range(35589,40575):\n",
        "      temp_l = [i, correct_pred[count]*train_std[-1]+train_mean[-1]] # tsd of traffic\n",
        "      writer.writerow(temp_l)\n",
        "      count += 1"
      ],
      "metadata": {
        "id": "Z7qi3PeF6R94"
      },
      "execution_count": null,
      "outputs": []
    }
  ],
  "metadata": {
    "accelerator": "GPU",
    "colab": {
      "provenance": []
    },
    "kernelspec": {
      "display_name": "Python 3",
      "name": "python3"
    }
  },
  "nbformat": 4,
  "nbformat_minor": 0
}